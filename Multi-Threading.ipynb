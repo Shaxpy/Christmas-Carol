{
 "cells": [
  {
   "cell_type": "code",
   "execution_count": 17,
   "metadata": {},
   "outputs": [
    {
     "name": "stdout",
     "output_type": "stream",
     "text": [
      "hi, I am thread0.\n",
      "\n",
      "thread0 has begun.\n",
      "\n",
      "hi, I am thread1.\n",
      "\n",
      "thread1 has begun.\n",
      "\n",
      "hi, I am thread2.\n",
      "\n",
      "thread2 has begun.\n",
      "\n",
      "hi, I am thread3.\n",
      "\n",
      "thread3 has begun.\n",
      "\n",
      "hi, I am thread4.\n",
      "thread4 has begun.\n",
      "\n",
      "\n",
      "thread0 has woken.\n",
      "thread1 has woken.\n",
      "\n",
      "\n",
      "thread3 has woken.\n",
      "thread4 has woken.\n",
      "thread2 has woken.\n",
      "\n",
      "\n",
      "\n",
      "time taken: 5.013500928878784\n",
      "All five threads have finished their jobs\n"
     ]
    }
   ],
   "source": [
    "import threading\n",
    "import time\n",
    "\n",
    "\n",
    "def sleep(n,name):\n",
    "    print('hi, I am {}.\\n'.format(name))\n",
    "    time.sleep(n)\n",
    "    print('{} has woken.\\n'.format(name))\n",
    "    \n",
    "  \n",
    "threads_list=[]\n",
    "start=time.time()\n",
    "for i in range(5):\n",
    "    t=threading.Thread(target=sleep,name='thread{}'.format(i),args=(5,'thread{}'.format(i)))\n",
    "    \n",
    "    threads_list.append(t)\n",
    "    t.start()\n",
    "    print('{} has begun.\\n'.format(t.name))\n",
    "\n",
    "for t in threads_list:\n",
    "    t.join()\n",
    "\n",
    "end=time.time()\n",
    "    \n",
    "print('time taken: {}'.format(end-start))\n",
    "    \n",
    "print(\"All five threads have finished their jobs\")\n",
    "\n",
    "\n",
    "\n",
    "\n",
    "#def sleep(n,name):\n",
    "#    print('hi, I am {}.\\n'.format(name))\n",
    "#    time.sleep(n)\n",
    "#    print('{} has woken.\\n'.format(name))\n",
    "#start=time.time()\n",
    "#    \n",
    "#for i in range(5):\n",
    "#    print('Iteration number {} has started'.format(i))\n",
    "#    sleep(5,i)\n",
    "#    \n",
    "#\n",
    "#end=time.time()\n",
    "#    \n",
    "#print('time taken: {}'.format(end-start))\n",
    "    "
   ]
  },
  {
   "cell_type": "code",
   "execution_count": null,
   "metadata": {},
   "outputs": [],
   "source": []
  }
 ],
 "metadata": {
  "kernelspec": {
   "display_name": "Python 3",
   "language": "python",
   "name": "python3"
  },
  "language_info": {
   "codemirror_mode": {
    "name": "ipython",
    "version": 3
   },
   "file_extension": ".py",
   "mimetype": "text/x-python",
   "name": "python",
   "nbconvert_exporter": "python",
   "pygments_lexer": "ipython3",
   "version": "3.7.4"
  }
 },
 "nbformat": 4,
 "nbformat_minor": 2
}
