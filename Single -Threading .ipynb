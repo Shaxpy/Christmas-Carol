{
 "cells": [
  {
   "cell_type": "code",
   "execution_count": 4,
   "metadata": {},
   "outputs": [],
   "source": [
    "import threading\n",
    "import time\n"
   ]
  },
  {
   "cell_type": "code",
   "execution_count": 9,
   "metadata": {},
   "outputs": [
    {
     "name": "stdout",
     "output_type": "stream",
     "text": [
      "hi, I am t1.\n",
      "Iwill be printed before the thread!\n",
      "\n",
      "t1 has woken\n"
     ]
    }
   ],
   "source": [
    "def sleep(n,name):\n",
    "    print('hi, I am {}.\\n'.format(name))\n",
    "    time.sleep(n)\n",
    "    print('{} has woken'.format(name))\n",
    "t=threading.Thread(target=sleep,name='t1',args=(3,'t1'))\n",
    "\n",
    "t.start()\n",
    "print(\"Iwill be printed before the thread!\")"
   ]
  },
  {
   "cell_type": "code",
   "execution_count": null,
   "metadata": {},
   "outputs": [],
   "source": []
  }
 ],
 "metadata": {
  "kernelspec": {
   "display_name": "Python 3",
   "language": "python",
   "name": "python3"
  },
  "language_info": {
   "codemirror_mode": {
    "name": "ipython",
    "version": 3
   },
   "file_extension": ".py",
   "mimetype": "text/x-python",
   "name": "python",
   "nbconvert_exporter": "python",
   "pygments_lexer": "ipython3",
   "version": "3.7.4"
  }
 },
 "nbformat": 4,
 "nbformat_minor": 2
}
