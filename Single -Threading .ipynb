{
 "cells": [
  {
   "cell_type": "code",
   "execution_count": 4,
   "metadata": {},
   "outputs": [],
   "source": [
    "import threading\n",
    "import time\n"
   ]
  },
  {
   "cell_type": "code",
   "execution_count": 7,
   "metadata": {},
   "outputs": [
    {
     "name": "stdout",
     "output_type": "stream",
     "text": [
      "hi, I am t1.\n",
      "\n",
      "Iwill be printed before the thread!\n",
      "t1 has woken\n"
     ]
    }
   ],
   "source": [
    "def sleep(n,name):\n",
    "    print('hi, I am {}.\\n'.format(name))\n",
    "    time.sleep(n)\n",
    "    print('{} has woken'.format(name))\n",
    "t=threading.Thread(target=sleep,name='t1',args=(3,'t1'))\n",
    "\n",
    "t.start()\n",
    "print(\"Iwill be printed before the thread!\")"
   ]
  },
  {
   "cell_type": "code",
   "execution_count": null,
   "metadata": {},
   "outputs": [],
   "source": [
    "threads_list=[]\n",
    "start=time.time()\n",
    "for i in range(5):\n",
    "    t=threading.Thread(target=sleep,name='thread{}'.format(i),args=(3,'thread{}'.format(i)))\n",
    "    \n",
    "    t.start()\n",
    "    print('{} has begun'.format(t.name))\n",
    "\n",
    "    for t in threads_list:\n",
    "        t.join()\n",
    "    end=time.time()\n",
    "    print(i)\n",
    "    print(\"all five threads have finished their jobs\")\n",
    "\n",
    "\n",
    "    "
   ]
  }
 ],
 "metadata": {
  "kernelspec": {
   "display_name": "Python 3",
   "language": "python",
   "name": "python3"
  },
  "language_info": {
   "codemirror_mode": {
    "name": "ipython",
    "version": 3
   },
   "file_extension": ".py",
   "mimetype": "text/x-python",
   "name": "python",
   "nbconvert_exporter": "python",
   "pygments_lexer": "ipython3",
   "version": "3.7.4"
  }
 },
 "nbformat": 4,
 "nbformat_minor": 2
}
